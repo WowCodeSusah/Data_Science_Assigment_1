{
 "cells": [
  {
   "cell_type": "code",
   "execution_count": 9,
   "id": "b2dd835d",
   "metadata": {},
   "outputs": [],
   "source": [
    "from bs4 import BeautifulSoup\n",
    "import requests\n",
    "import re\n",
    "import pandas as pd"
   ]
  },
  {
   "cell_type": "code",
   "execution_count": 10,
   "id": "4bb011bd",
   "metadata": {},
   "outputs": [],
   "source": [
    "# Scraping\n",
    "headers = {'Accept-Language': 'en-US,en;q=0.8'}\n",
    "url = 'https://editorial.rottentomatoes.com/guide/worst-movies-of-all-time/'\n",
    "responce = requests.get(url, headers=headers)\n",
    "soup = BeautifulSoup(responce.text, \"html.parser\")"
   ]
  },
  {
   "cell_type": "code",
   "execution_count": 11,
   "id": "af096008",
   "metadata": {},
   "outputs": [
    {
     "name": "stdout",
     "output_type": "stream",
     "text": [
      "<div class=\"article_movie_title\" style=\"float: left;\">\n",
      "<div><h2><a href=\"https://www.rottentomatoes.com/m/ballistic_ecks_vs_sever\">Ballistic: Ecks vs. Sever</a> <span class=\"subtle start-year\">(2002)</span> <span class=\"icon tiny rotten\" title=\"Rotten\"></span> <span class=\"tMeterScore\">0%</span></h2></div>\n",
      "</div>\n",
      "\n",
      "how many titles are there? 100\n"
     ]
    }
   ],
   "source": [
    "movie_title = soup.select('div.article_movie_title')\n",
    "print(movie_title[0])\n",
    "print(\"\")\n",
    "print(\"how many titles are there?\", len(soup.select('div.article_movie_title')))"
   ]
  },
  {
   "cell_type": "code",
   "execution_count": 16,
   "id": "6c4fb044",
   "metadata": {
    "scrolled": true
   },
   "outputs": [
    {
     "name": "stdout",
     "output_type": "stream",
     "text": [
      "100\n",
      "100\n",
      "100\n",
      "100\n",
      "100\n",
      "100\n"
     ]
    }
   ],
   "source": [
    "title = []\n",
    "score = []\n",
    "criticConsensus = []\n",
    "synopsis = []\n",
    "staring = []\n",
    "director = []\n",
    "\n",
    "for t in soup.select(\"div.article_movie_title a\"):\n",
    "    title.append(t.get_text())\n",
    "for x in soup.select(\"span.tMeterScore\"):\n",
    "    score.append(x.get_text())\n",
    "for y in soup.select(\"div.info.critics-consensus\"):\n",
    "    criticConsensus.append(y.get_text())\n",
    "for v in soup.select(\"div.info.synopsis\"):\n",
    "    synopsis.append(v.get_text())\n",
    "for b in soup.select(\"div.info.cast\"):\n",
    "    staring.append(b.get_text())\n",
    "for d in soup.select(\"div.info.director\"):\n",
    "    director.append(d.get_text())\n",
    "\n",
    "\n",
    "print(len(title))\n",
    "print(len(score))\n",
    "print(len(criticConsensus))\n",
    "print(len(synopsis))\n",
    "print(len(staring))\n",
    "print(len(director))\n"
   ]
  },
  {
   "cell_type": "code",
   "execution_count": 18,
   "id": "da28819a",
   "metadata": {},
   "outputs": [
    {
     "name": "stdout",
     "output_type": "stream",
     "text": [
      "                       Title Score  \\\n",
      "0  Ballistic: Ecks vs. Sever    0%   \n",
      "1            One Missed Call    0%   \n",
      "2                Left Behind    0%   \n",
      "3           A Thousand Words    0%   \n",
      "4                      Gotti    0%   \n",
      "\n",
      "                                    Critic Consensus  \\\n",
      "0  Critics Consensus: A startlingly inept film, B...   \n",
      "1  Critics Consensus: One of the weakest entries ...   \n",
      "2  Critics Consensus: Yea verily, like unto a pla...   \n",
      "3  Critics Consensus: Dated jokes (A Thousand Wor...   \n",
      "4                 Critics Consensus: Fuhgeddaboudit.   \n",
      "\n",
      "                                            Synopsis  \\\n",
      "0  Synopsis: Haunted by the mysterious death of h...   \n",
      "1  Synopsis: When Beth Raymond (Shannyn Sossamon)...   \n",
      "2  Synopsis: The entire planet is thrown into may...   \n",
      "3  Synopsis: Jack McCall (Eddie Murphy) is a self...   \n",
      "4  Synopsis: Raised on the streets of New York, y...   \n",
      "\n",
      "                                             Staring  \\\n",
      "0  \\nStarring: Antonio Banderas, Lucy Liu, Gregg ...   \n",
      "1  \\nStarring: Shannyn Sossamon, Edward Burns, An...   \n",
      "2  \\nStarring: Nicolas Cage, Chad Michael Murray,...   \n",
      "3  \\nStarring: Eddie Murphy, Kerry Washington, Cl...   \n",
      "4  \\nStarring: John Travolta, Spencer Rocco Lofra...   \n",
      "\n",
      "                           director  \n",
      "0  \\nDirected By: Wych Kaosayananda  \n",
      "1       \\nDirected By: Éric Valette  \n",
      "2      \\nDirected By: Vic Armstrong  \n",
      "3      \\nDirected By: Brian Robbins  \n",
      "4     \\nDirected By: Kevin Connolly  \n"
     ]
    }
   ],
   "source": [
    "df = pd.DataFrame(\n",
    "    {'Title': title,\n",
    "     'Score': score,\n",
    "     'Critic Consensus': criticConsensus,\n",
    "     'Synopsis': synopsis,\n",
    "     'Staring': staring,\n",
    "     'director': director}\n",
    "    )\n",
    "\n",
    "print (df.head())\n",
    "\n",
    "df.to_csv('test.csv', index=False)"
   ]
  },
  {
   "cell_type": "code",
   "execution_count": 35,
   "id": "7245ae9e",
   "metadata": {},
   "outputs": [],
   "source": [
    "# Scraping\n",
    "headers = {'Accept-Language': 'en-US,en;q=0.8'}\n",
    "url = 'https://editorial.rottentomatoes.com/guide/popular-movies/'\n",
    "responce = requests.get(url, headers=headers)\n",
    "soup = BeautifulSoup(responce.text, \"html.parser\")"
   ]
  },
  {
   "cell_type": "code",
   "execution_count": 36,
   "id": "46e1d2ff",
   "metadata": {},
   "outputs": [
    {
     "name": "stdout",
     "output_type": "stream",
     "text": [
      "<div class=\"article_movie_title\" style=\"float: left;\">\n",
      "<div><h2><a href=\"https://www.rottentomatoes.com/m/a_haunting_in_venice\">A Haunting in Venice</a> <span class=\"subtle start-year\">(2023)</span> <span class=\"icon tiny certified\" title=\"Certified Fresh\"></span> <span class=\"tMeterScore\">78%</span></h2></div>\n",
      "</div>\n",
      "how many titles are there? 30\n"
     ]
    }
   ],
   "source": [
    "tryT = soup.select('div.article_movie_title')\n",
    "print(tryT[0])\n",
    "print(\"how many titles are there?\", len(soup.select('div.article_movie_title')))"
   ]
  },
  {
   "cell_type": "code",
   "execution_count": 37,
   "id": "47ffe7e4",
   "metadata": {},
   "outputs": [
    {
     "name": "stdout",
     "output_type": "stream",
     "text": [
      "30\n",
      "30\n",
      "30\n",
      "30\n",
      "30\n",
      "30\n",
      "30\n"
     ]
    }
   ],
   "source": [
    "title2 = []\n",
    "year = []\n",
    "score2 = []\n",
    "criticConsensus2 = []\n",
    "synopsis2 = []\n",
    "staring2 = []\n",
    "director2 = []\n",
    "\n",
    "for t in soup.select(\"div.article_movie_title a\"):\n",
    "    title2.append(t.get_text())\n",
    "for u in soup.select(\"span.subtle.start-year\"):\n",
    "    year.append(u.get_text())\n",
    "for x in soup.select(\"span.tMeterScore\"):\n",
    "    score2.append(x.get_text())\n",
    "for y in soup.select(\"div.info.critics-consensus\"):\n",
    "    criticConsensus2.append(y.get_text())\n",
    "for v in soup.select(\"div.info.synopsis\"):\n",
    "    synopsis2.append(v.get_text())\n",
    "for b in soup.select(\"div.info.cast\"):\n",
    "    staring2.append(b.get_text())\n",
    "for d in soup.select(\"div.info.director\"):\n",
    "    director2.append(d.get_text())\n",
    "\n",
    "\n",
    "print(len(title2))\n",
    "print(len(score2))\n",
    "print(len(year))\n",
    "print(len(criticConsensus2))\n",
    "print(len(synopsis2))\n",
    "print(len(staring2))\n",
    "print(len(director2))"
   ]
  },
  {
   "cell_type": "code",
   "execution_count": 38,
   "id": "d1dbad01",
   "metadata": {},
   "outputs": [
    {
     "name": "stdout",
     "output_type": "stream",
     "text": [
      "                  Title Score    Year  \\\n",
      "0  A Haunting in Venice   78%  (2023)   \n",
      "1            The Nun II   51%  (2023)   \n",
      "2            Talk to Me   95%  (2023)   \n",
      "3                Barbie   88%  (2023)   \n",
      "4             Anchorage  100%  (2021)   \n",
      "\n",
      "                                    Critic Consensus  \\\n",
      "0  Critics Consensus: A darker and spookier spin ...   \n",
      "1  Critics Consensus: Scarier than its predecesso...   \n",
      "2  Critics Consensus: With a gripping story and i...   \n",
      "3  Critics Consensus: Barbie is a visually dazzli...   \n",
      "4               Critics Consensus: No consensus yet.   \n",
      "\n",
      "                                            Synopsis  \\\n",
      "0  Synopsis: \"A Haunting in Venice\" is set in eer...   \n",
      "1  Synopsis: 1956 -- France. A priest is murdered...   \n",
      "2  Synopsis: When a group of friends discover how...   \n",
      "3  Synopsis: To live in Barbie Land is to be a pe...   \n",
      "4  Synopsis: Two brothers attempt to drive a trun...   \n",
      "\n",
      "                                             Staring  \\\n",
      "0  \\nStarring: Kenneth Branagh, Tina Fey, Camille...   \n",
      "1  \\nStarring: Taissa Farmiga, Jonas Bloquet, Sto...   \n",
      "2  \\nStarring: Sophie Wilde, Miranda Otto, Otis D...   \n",
      "3  \\nStarring: Margot Robbie, Ryan Gosling, Ameri...   \n",
      "4  \\nStarring: Scott Monahan, Dakota Loesch, Chri...   \n",
      "\n",
      "                                            director  \n",
      "0                     \\nDirected By: Kenneth Branagh  \n",
      "1                      \\nDirected By: Michael Chaves  \n",
      "2  \\nDirected By: Danny Philippou, Michael Philippou  \n",
      "3                        \\nDirected By: Greta Gerwig  \n",
      "4                       \\nDirected By: Scott Monahan  \n"
     ]
    }
   ],
   "source": [
    "df = pd.DataFrame(\n",
    "    {'Title': title2,\n",
    "     'Score': score2,\n",
    "     'Year': year,\n",
    "     'Critic Consensus': criticConsensus2,\n",
    "     'Synopsis': synopsis2,\n",
    "     'Staring': staring2,\n",
    "     'director': director2}\n",
    "    )\n",
    "\n",
    "print (df.head())\n",
    "\n",
    "df.to_csv('test2.csv', index=False)"
   ]
  },
  {
   "cell_type": "code",
   "execution_count": null,
   "id": "e00f2cb5",
   "metadata": {},
   "outputs": [],
   "source": []
  }
 ],
 "metadata": {
  "kernelspec": {
   "display_name": "Python 3 (ipykernel)",
   "language": "python",
   "name": "python3"
  },
  "language_info": {
   "codemirror_mode": {
    "name": "ipython",
    "version": 3
   },
   "file_extension": ".py",
   "mimetype": "text/x-python",
   "name": "python",
   "nbconvert_exporter": "python",
   "pygments_lexer": "ipython3",
   "version": "3.9.12"
  }
 },
 "nbformat": 4,
 "nbformat_minor": 5
}
